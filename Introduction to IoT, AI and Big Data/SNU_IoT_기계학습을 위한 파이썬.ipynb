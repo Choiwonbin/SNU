{
 "cells": [
  {
   "cell_type": "markdown",
   "metadata": {},
   "source": [
    "## 파이썬 기초"
   ]
  },
  {
   "cell_type": "markdown",
   "metadata": {},
   "source": [
    "### Hello, world"
   ]
  },
  {
   "cell_type": "code",
   "execution_count": 1,
   "metadata": {},
   "outputs": [
    {
     "name": "stdout",
     "output_type": "stream",
     "text": [
      "Hello, world!\n",
      "Hello, world!\n",
      "Hello, world!\n",
      "Hello, world!\n"
     ]
    }
   ],
   "source": [
    "print('Hello, world!')\n",
    "print(\"Hello, world!\")\n",
    "\n",
    "print('Hello, ' + 'world!')\n",
    "print('Hello,' + ' ' + 'world!')"
   ]
  },
  {
   "cell_type": "markdown",
   "metadata": {},
   "source": [
    "### 주석 작성"
   ]
  },
  {
   "cell_type": "code",
   "execution_count": 2,
   "metadata": {},
   "outputs": [
    {
     "name": "stdout",
     "output_type": "stream",
     "text": [
      "Hello world\n"
     ]
    }
   ],
   "source": [
    "# 1. '''를 활용하는 방법\n",
    "'''\n",
    "Comments\n",
    "주석문\n",
    "'''\n",
    "\n",
    "# 2. #을 활용하는 방법\n",
    "print(\"Hello world\") # Hello, world"
   ]
  },
  {
   "cell_type": "markdown",
   "metadata": {},
   "source": [
    "### 리스트(List)"
   ]
  },
  {
   "cell_type": "code",
   "execution_count": 3,
   "metadata": {},
   "outputs": [
    {
     "name": "stdout",
     "output_type": "stream",
     "text": [
      "myList_1: [1, 2, 3, 4, 5]\n",
      "myList_2: A string is also a list\n",
      "myList_3: []\n",
      "myList_4: []\n",
      "Length of myList_1: 5\n"
     ]
    }
   ],
   "source": [
    "# List 생성\n",
    "myList_1 = [1, 2, 3, 4, 5]\n",
    "myList_2 = 'A string is also a list'\n",
    "\n",
    "# Empty List 생성\n",
    "myList_3 = []\n",
    "myList_4 = list()\n",
    "\n",
    "# List 출력\n",
    "print('myList_1:', myList_1)\n",
    "print('myList_2:', myList_2)\n",
    "print('myList_3:', myList_3)\n",
    "print('myList_4:', myList_4)\n",
    "\n",
    "# List 길이 출력\n",
    "print('Length of myList_1:', len(myList_1))"
   ]
  },
  {
   "cell_type": "code",
   "execution_count": 4,
   "metadata": {},
   "outputs": [
    {
     "name": "stdout",
     "output_type": "stream",
     "text": [
      "myList_3: [1, 2, 3, 4, 5, 6, 7, 8, 9, 10]\n",
      "myList_4: ring\n",
      "First of myList_3: 1\n",
      "Last of myList_3: 10\n"
     ]
    }
   ],
   "source": [
    "# List 연산\n",
    "myList_3 = myList_1 + [6, 7, 8, 9, 10]\n",
    "\n",
    "# 부분리스트\n",
    "myList_4 = myList_2[4:8]\n",
    "\n",
    "# 리스트 출력\n",
    "print('myList_3:', myList_3)\n",
    "print('myList_4:', myList_4)\n",
    "\n",
    "# 리스트의 첫 항목 출력\n",
    "print('First of myList_3:', myList_3[0])\n",
    "\n",
    "# 리스트의 마지막 항목 출력\n",
    "print('Last of myList_3:', myList_3[-1])"
   ]
  },
  {
   "cell_type": "markdown",
   "metadata": {},
   "source": [
    "### 딕셔너리(Dictionary)"
   ]
  },
  {
   "cell_type": "code",
   "execution_count": 5,
   "metadata": {},
   "outputs": [
    {
     "name": "stdout",
     "output_type": "stream",
     "text": [
      "myDict_1: {'key_a': 'value_1', 'key_b': 'value_2'}\n",
      "myDict_2: {'a': 1, 'b': 2, 'c': 3, 'd': 4, 'e': 5}\n",
      "myDict_3: {}\n",
      "myDict_4: {}\n"
     ]
    }
   ],
   "source": [
    "# Dictonary 생성\n",
    "myDict_1 = {'key_a':'value_1', 'key_b':'value_2'}\n",
    "myDict_2 = {'a':1, 'b':2, 'c':3, 'd':4, 'e':5}\n",
    "\n",
    "# Empty Dictonary 생성\n",
    "myDict_3 = {}\n",
    "myDict_4 = dict()\n",
    "\n",
    "# Dictonary 출력\n",
    "print('myDict_1:', myDict_1)\n",
    "print('myDict_2:', myDict_2)\n",
    "print('myDict_3:', myDict_3)\n",
    "print('myDict_4:', myDict_4)"
   ]
  },
  {
   "cell_type": "code",
   "execution_count": 6,
   "metadata": {},
   "outputs": [
    {
     "name": "stdout",
     "output_type": "stream",
     "text": [
      "Keys of myDict_1: dict_keys(['key_a', 'key_b', 'key_c'])\n",
      "Values of myDict_2: dict_values([1, 2, 3, 4, 5])\n",
      "Value of myDict_1['key_c']: value_3\n",
      "VAlue of myDict_2['c']: 3\n"
     ]
    }
   ],
   "source": [
    "# 새로운 key:value 추가\n",
    "myDict_1['key_c'] = 'value_3'\n",
    "\n",
    "# Dictonary의 keys 출력\n",
    "print('Keys of myDict_1:', myDict_1.keys())\n",
    "\n",
    "# Dictonary의 values 출력\n",
    "print('Values of myDict_2:', myDict_2.values())\n",
    "\n",
    "# Dictonary의 key에 대응되는 value 출력\n",
    "print(\"Value of myDict_1['key_c']:\", myDict_1['key_c'])\n",
    "print(\"VAlue of myDict_2['c']:\", myDict_2['c'])"
   ]
  },
  {
   "cell_type": "markdown",
   "metadata": {},
   "source": [
    "### for 반복문"
   ]
  },
  {
   "cell_type": "code",
   "execution_count": 7,
   "metadata": {},
   "outputs": [
    {
     "name": "stdout",
     "output_type": "stream",
     "text": [
      "1 2 3 4 5 \n",
      "1.2.3.4.5.\n"
     ]
    }
   ],
   "source": [
    "for eachone in myList_1:\n",
    "    print(eachone, end = ' ')\n",
    "print()\n",
    "\n",
    "for i in range(len(myList_1)):\n",
    "    print(myList_1[i], end = '.')\n",
    "print()"
   ]
  },
  {
   "cell_type": "markdown",
   "metadata": {},
   "source": [
    "### if 조건문"
   ]
  },
  {
   "cell_type": "code",
   "execution_count": 8,
   "metadata": {},
   "outputs": [
    {
     "name": "stdout",
     "output_type": "stream",
     "text": [
      "1:ODD\n",
      "2:EVEN\n",
      "3:ODD\n",
      "4:EVEN\n",
      "5:ODD\n"
     ]
    }
   ],
   "source": [
    "for i in range(1, 100):\n",
    "    print(str(i) + ':', end = '')\n",
    "    if i % 2 == 0:\n",
    "        print('EVEN')\n",
    "    elif i % 2 == 1:\n",
    "        print('ODD')\n",
    "    if i == 5:\n",
    "        break\n",
    "    else:\n",
    "        continue"
   ]
  },
  {
   "cell_type": "markdown",
   "metadata": {},
   "source": [
    "### 리스트 컴프리헨션"
   ]
  },
  {
   "cell_type": "code",
   "execution_count": 9,
   "metadata": {},
   "outputs": [
    {
     "name": "stdout",
     "output_type": "stream",
     "text": [
      "1 4 9 16 25 \n",
      "4 16 \n",
      "False True False True False \n"
     ]
    }
   ],
   "source": [
    "# 제곱값 출력\n",
    "squareOfEachone = [one*one for one in myList_1]\n",
    "for eachone in squareOfEachone:\n",
    "    print(eachone, end = ' ')\n",
    "print()\n",
    "\n",
    "# 짝수의 제곱값 출력\n",
    "squareOfEven = [one*one for one in myList_1 if one % 2 == 0]\n",
    "for eachone in squareOfEven:\n",
    "    print(eachone, end = ' ')\n",
    "print()\n",
    "\n",
    "# 짝수이면 True, 홀수이면 False 출력\n",
    "isEven = [True if one % 2 == 0 else False for one in myList_1]\n",
    "for eachone in isEven:\n",
    "    print(eachone, end = ' ')\n",
    "print()"
   ]
  },
  {
   "cell_type": "markdown",
   "metadata": {},
   "source": [
    "### 함수(Function)"
   ]
  },
  {
   "cell_type": "code",
   "execution_count": 10,
   "metadata": {},
   "outputs": [],
   "source": [
    "# 모든 원소 출력하는 함수 정의\n",
    "def printList(theList):\n",
    "    for one in theList:\n",
    "        print(one, end = ' ')\n",
    "    print()\n",
    "    \n",
    "# 제곱값 출력하는 함수 정의\n",
    "def mySqr(n):\n",
    "    return n*n\n",
    "\n",
    "# 원소의 제곱값 출력하는 함수 정의\n",
    "def sqrList(l):\n",
    "    return [i*i for i in l]"
   ]
  },
  {
   "cell_type": "code",
   "execution_count": 11,
   "metadata": {},
   "outputs": [
    {
     "name": "stdout",
     "output_type": "stream",
     "text": [
      "13\n",
      "5\n",
      "32\n"
     ]
    }
   ],
   "source": [
    "# 기본 인자와 키워드 인자\n",
    "def plusplus(a, b = 1, c = 2): # 'b = 1', 'c = 2': 기본 인자\n",
    "    return a+b+c\n",
    "\n",
    "print(plusplus(10))\n",
    "print(plusplus(1, 2))\n",
    "print(plusplus(10, b = 20)) # 'b = 20': 키워드 인자"
   ]
  },
  {
   "cell_type": "markdown",
   "metadata": {},
   "source": [
    "### 클래스(Class)"
   ]
  },
  {
   "cell_type": "code",
   "execution_count": 12,
   "metadata": {},
   "outputs": [],
   "source": [
    "# Class 생성\n",
    "class Circle:\n",
    "    pi = 3.141592 # 클래스 변수\n",
    "    def __init__(self, radius): # 생성자\n",
    "        self.radius = radius # 객체 변수\n",
    "    def setRadius(self, r): # 멤버 함수\n",
    "        self.radius = r\n",
    "        \n",
    "    # 원주 구하는 함수 정의\n",
    "    def getRadius(self): # 멤버 함수\n",
    "        return self.radius\n",
    "    \n",
    "    # 원넓이 구하는 함수 정의\n",
    "    def getArea(self): # 멤버 함수\n",
    "        area = self.radius * self.radius * Circle.pi\n",
    "        return area"
   ]
  },
  {
   "cell_type": "code",
   "execution_count": 13,
   "metadata": {},
   "outputs": [
    {
     "name": "stdout",
     "output_type": "stream",
     "text": [
      "10\n",
      "314.1592\n",
      "1\n",
      "3.141592\n"
     ]
    }
   ],
   "source": [
    "a = Circle(10)\n",
    "b = Circle(1)\n",
    "\n",
    "print(a.getRadius())\n",
    "print(a.getArea())\n",
    "print(b.getRadius())\n",
    "print(b.getArea())"
   ]
  },
  {
   "cell_type": "markdown",
   "metadata": {},
   "source": [
    "## Numpy"
   ]
  },
  {
   "cell_type": "code",
   "execution_count": 14,
   "metadata": {},
   "outputs": [],
   "source": [
    "# 필요한 library import\n",
    "import numpy as np"
   ]
  },
  {
   "cell_type": "markdown",
   "metadata": {},
   "source": [
    "### 1차원 배열"
   ]
  },
  {
   "cell_type": "code",
   "execution_count": 15,
   "metadata": {},
   "outputs": [
    {
     "name": "stdout",
     "output_type": "stream",
     "text": [
      "ones(5): [1. 1. 1. 1. 1.]\n",
      "zeros(5): [0. 0. 0. 0. 0.]\n",
      "zeros(5, dtype = np.int32): [0 0 0 0 0]\n",
      "arange(5): [0 1 2 3 4]\n",
      "arange(5.): [0. 1. 2. 3. 4.] Type: float64\n"
     ]
    }
   ],
   "source": [
    "# 1.이 5개인 1차원 배열 출력\n",
    "print('ones(5):', np.ones(5))\n",
    "\n",
    "# 0.이 5개인 1차원 배열 출력\n",
    "print('zeros(5):', np.zeros(5))\n",
    "\n",
    "# 0이 5개인 1차원 배열 출력\n",
    "print('zeros(5, dtype = np.int32):', np.zeros(5, dtype = np.int32))\n",
    "\n",
    "# 0~4의 정수 배열 출력\n",
    "print('arange(5):', np.arange(5))\n",
    "\n",
    "# 0~4의 실수 배열 출력\n",
    "print('arange(5.):', np.arange(5.), 'Type:', np.arange(5.).dtype)"
   ]
  },
  {
   "cell_type": "code",
   "execution_count": 16,
   "metadata": {},
   "outputs": [
    {
     "name": "stdout",
     "output_type": "stream",
     "text": [
      "linspace(0, 1, 5): [0.   0.25 0.5  0.75 1.  ]\n",
      "random.uniform(size=3): [0.7580312  0.08593312 0.84456579]\n",
      "myList_1: [1 2 3 4 5] Type: int32\n"
     ]
    }
   ],
   "source": [
    "# 0~1 사이의 5개의 실수 배열 출력\n",
    "print('linspace(0, 1, 5):', np.linspace(0, 1, 5))\n",
    "\n",
    "# 무작위로 3개의 실수 배열 출력\n",
    "print('random.uniform(size=3):', np.random.uniform(size = 3))\n",
    "\n",
    "# myList_1을 배열로 출력\n",
    "print('myList_1:', np.array(myList_1), 'Type:', np.array(myList_1).dtype)"
   ]
  },
  {
   "cell_type": "markdown",
   "metadata": {},
   "source": [
    "### 다차원 배열(ndarray)"
   ]
  },
  {
   "cell_type": "code",
   "execution_count": 17,
   "metadata": {},
   "outputs": [
    {
     "name": "stdout",
     "output_type": "stream",
     "text": [
      "x: [ 1  2  3  4  5  6  7  8  9 10]\n",
      "dimension of x: 1\n",
      "--------------------------------------------------\n",
      "xx: [[ 1  2  3  4  5  6  7  8  9 10]]\n",
      "dimension of xx: 2\n"
     ]
    }
   ],
   "source": [
    "# 1~10 사이의 정수를 원소로 갖는 1차원 배열 x와 x의 차원수 출력\n",
    "x = np.arange(1, 11)\n",
    "print('x:', x)\n",
    "print('dimension of x:', x.ndim)\n",
    "print('-'*50)\n",
    "\n",
    "# 1~10 사이의 정수를 원소로 갖는 2차원 배열 xx와 xx의 차원수 출력\n",
    "xx = x.reshape(1, -1) # 원소를 1행의 배열로 재배치\n",
    "print('xx:', xx)\n",
    "print('dimension of xx:', xx.ndim)"
   ]
  },
  {
   "cell_type": "markdown",
   "metadata": {},
   "source": [
    "### 전치행렬"
   ]
  },
  {
   "cell_type": "code",
   "execution_count": 18,
   "metadata": {},
   "outputs": [
    {
     "name": "stdout",
     "output_type": "stream",
     "text": [
      "Transposed x: [ 1  2  3  4  5  6  7  8  9 10]\n",
      "Transposed xx:\n",
      "[[ 1]\n",
      " [ 2]\n",
      " [ 3]\n",
      " [ 4]\n",
      " [ 5]\n",
      " [ 6]\n",
      " [ 7]\n",
      " [ 8]\n",
      " [ 9]\n",
      " [10]]\n"
     ]
    }
   ],
   "source": [
    "# 1차원 배열의 전치행렬\n",
    "print('Transposed x:', x.T)\n",
    "\n",
    "# 2차원 배열의 전치행렬\n",
    "print('Transposed xx:')\n",
    "print(xx.T)"
   ]
  },
  {
   "cell_type": "markdown",
   "metadata": {},
   "source": [
    "### 확장"
   ]
  },
  {
   "cell_type": "code",
   "execution_count": 19,
   "metadata": {},
   "outputs": [
    {
     "name": "stdout",
     "output_type": "stream",
     "text": [
      "x2:\n",
      "[[ 1  2  3  4  5  6  7  8  9 10]\n",
      " [ 1  2  3  4  5  6  7  8  9 10]]\n",
      "ravel of x2: [ 1  2  3  4  5  6  7  8  9 10  1  2  3  4  5  6  7  8  9 10]\n"
     ]
    }
   ],
   "source": [
    "# x를 2행 반복하는 배열 출력\n",
    "x2 = np.tile(x, (2, 1))\n",
    "print('x2:')\n",
    "print(x2)\n",
    "\n",
    "# x2를 1차원으로 펼친 배열 출력\n",
    "print('ravel of x2:', np.ravel(x2))"
   ]
  },
  {
   "cell_type": "markdown",
   "metadata": {},
   "source": [
    "### 연산"
   ]
  },
  {
   "cell_type": "code",
   "execution_count": 20,
   "metadata": {},
   "outputs": [
    {
     "name": "stdout",
     "output_type": "stream",
     "text": [
      "x_List: [1, 2, 3, 4, 5]\n",
      "x_List+x_List: [1, 2, 3, 4, 5, 1, 2, 3, 4, 5]\n"
     ]
    }
   ],
   "source": [
    "# 리스트 연산의 문제점: 연산 불가\n",
    "x_List = [1, 2, 3, 4, 5]\n",
    "print('x_List:', x_List)\n",
    "print('x_List+x_List:', x_List + x_List) # 병합\n",
    "# print(x_List * 2): ERROR!\n",
    "# print(x_List + 10): ERROR!"
   ]
  },
  {
   "cell_type": "code",
   "execution_count": 21,
   "metadata": {},
   "outputs": [
    {
     "name": "stdout",
     "output_type": "stream",
     "text": [
      "xx:\n",
      "[[ 1  2  3  4  5  6  7  8  9 10]]\n",
      "xx + xx:\n",
      "[[ 2  4  6  8 10 12 14 16 18 20]]\n",
      "xx * 2:\n",
      "[[ 2  4  6  8 10 12 14 16 18 20]]\n",
      "xx + 10:\n",
      "[[11 12 13 14 15 16 17 18 19 20]]\n",
      "xx * xx.T:\n",
      "[[  1   2   3   4   5   6   7   8   9  10]\n",
      " [  2   4   6   8  10  12  14  16  18  20]\n",
      " [  3   6   9  12  15  18  21  24  27  30]\n",
      " [  4   8  12  16  20  24  28  32  36  40]\n",
      " [  5  10  15  20  25  30  35  40  45  50]\n",
      " [  6  12  18  24  30  36  42  48  54  60]\n",
      " [  7  14  21  28  35  42  49  56  63  70]\n",
      " [  8  16  24  32  40  48  56  64  72  80]\n",
      " [  9  18  27  36  45  54  63  72  81  90]\n",
      " [ 10  20  30  40  50  60  70  80  90 100]]\n"
     ]
    }
   ],
   "source": [
    "# 다차원 배열의 연산\n",
    "print('xx:')\n",
    "print(xx)\n",
    "\n",
    "# 다차원 배열의 합\n",
    "print('xx + xx:')\n",
    "print(xx + xx)\n",
    "\n",
    "# 다차원 배열과 숫자의 곱\n",
    "print('xx * 2:')\n",
    "print(xx * 2)\n",
    "\n",
    "# 다차원 배열과 숫자의 합\n",
    "print('xx + 10:')\n",
    "print(xx + 10)\n",
    "\n",
    "# 다차원 배열과 전치행렬의 곱\n",
    "print('xx * xx.T:')\n",
    "print(xx * xx.T)"
   ]
  },
  {
   "cell_type": "code",
   "execution_count": 22,
   "metadata": {},
   "outputs": [
    {
     "name": "stdout",
     "output_type": "stream",
     "text": [
      "xx:\n",
      "[[ 1  2  3  4  5  6  7  8  9 10]]\n",
      "np.dot:\n",
      "[[385]]\n",
      "np.matmul:\n",
      "[[385]]\n",
      "@ operator:\n",
      "[[385]]\n"
     ]
    }
   ],
   "source": [
    "# 다차원 배열의 연산\n",
    "print('xx:')\n",
    "print(xx)\n",
    "\n",
    "# 다차원 배열의 내적 함수\n",
    "print('np.dot:')\n",
    "print(np.dot(xx, xx.T))\n",
    "\n",
    "# 다차원 배열의 행렬곱 함수\n",
    "print('np.matmul:')\n",
    "print(np.matmul(xx, xx.T))\n",
    "\n",
    "# 다차원 배열의 행렬곱 연산자\n",
    "print('@ operator:')\n",
    "print(xx @ xx.T)"
   ]
  },
  {
   "cell_type": "markdown",
   "metadata": {},
   "source": [
    "### 병합"
   ]
  },
  {
   "cell_type": "code",
   "execution_count": 23,
   "metadata": {},
   "outputs": [
    {
     "name": "stdout",
     "output_type": "stream",
     "text": [
      "vstack:\n",
      "[[ 1  2  3  4  5  6  7  8  9 10]\n",
      " [ 1  2  3  4  5  6  7  8  9 10]]\n",
      "shape: (2, 10)\n",
      "hstack: \n",
      "[[ 1  2  3  4  5  6  7  8  9 10 11]\n",
      " [ 1  2  3  4  5  6  7  8  9 10 11]]\n",
      "stack:\n",
      "[[ 1  2  3  4  5  6  7  8  9 10]\n",
      " [ 1  2  3  4  5  6  7  8  9 10]]\n",
      "[[ True  True  True  True  True  True  True  True  True  True]\n",
      " [ True  True  True  True  True  True  True  True  True  True]]\n"
     ]
    }
   ],
   "source": [
    "# 수직 방향 병합\n",
    "print('vstack:')\n",
    "yy = np.vstack((xx, xx)) # 튜플 인자\n",
    "print(yy)\n",
    "print('shape:', yy.shape)\n",
    "\n",
    "# 수평 방향 병합\n",
    "print('hstack: ')\n",
    "print(np.hstack((yy, [[11], [11]])))\n",
    "\n",
    "# 임의 방향 병합(axis = 0: 수직 방향, axis = 1: 수평 방향)\n",
    "print('stack:')\n",
    "zz = np.concatenate((xx, xx), axis = 0)\n",
    "print(zz)\n",
    "\n",
    "# 원소별 비교\n",
    "print(yy==zz)"
   ]
  },
  {
   "cell_type": "markdown",
   "metadata": {},
   "source": [
    "### 참조"
   ]
  },
  {
   "cell_type": "code",
   "execution_count": 24,
   "metadata": {},
   "outputs": [
    {
     "name": "stdout",
     "output_type": "stream",
     "text": [
      "16\n",
      "[[16 20 24 28]\n",
      " [20 25 30 35]\n",
      " [24 30 36 42]\n",
      " [28 35 42 49]]\n",
      "[ 10  20  30  40  50  60  70  80  90 100]\n",
      "[ 2  4  6  8 10 12 14 16 18 20]\n"
     ]
    }
   ],
   "source": [
    "mm = xx * xx.T\n",
    "\n",
    "# 3행 3열 원소 출력\n",
    "print(mm[3, 3])\n",
    "\n",
    "# 3~7행, 3~7행 출력\n",
    "print(mm[3:7, 3:7])\n",
    "\n",
    "# 마지막 열 출력\n",
    "print(mm[:, -1])\n",
    "\n",
    "# 첫 행 출력\n",
    "print(mm[1, :])"
   ]
  },
  {
   "cell_type": "markdown",
   "metadata": {},
   "source": [
    "## 데이터 불러오기"
   ]
  },
  {
   "cell_type": "markdown",
   "metadata": {},
   "source": [
    "### numpy.loadtxt()"
   ]
  },
  {
   "cell_type": "code",
   "execution_count": 25,
   "metadata": {},
   "outputs": [
    {
     "name": "stdout",
     "output_type": "stream",
     "text": [
      "[5.1 3.5 1.4 0.2] Iris-setosa\n",
      "[4.9 3.  1.4 0.2] Iris-setosa\n",
      "[4.7 3.2 1.3 0.2] Iris-setosa\n",
      "[4.6 3.1 1.5 0.2] Iris-setosa\n",
      "[5.  3.6 1.4 0.2] Iris-setosa\n",
      "[5.4 3.9 1.7 0.4] Iris-setosa\n",
      "[4.6 3.4 1.4 0.3] Iris-setosa\n",
      "[5.  3.4 1.5 0.2] Iris-setosa\n",
      "[4.4 2.9 1.4 0.2] Iris-setosa\n",
      "[4.9 3.1 1.5 0.1] Iris-setosa\n",
      "[5.4 3.7 1.5 0.2] Iris-setosa\n",
      "[4.8 3.4 1.6 0.2] Iris-setosa\n",
      "[4.8 3.  1.4 0.1] Iris-setosa\n",
      "[4.3 3.  1.1 0.1] Iris-setosa\n",
      "[5.8 4.  1.2 0.2] Iris-setosa\n",
      "[5.7 4.4 1.5 0.4] Iris-setosa\n",
      "[5.4 3.9 1.3 0.4] Iris-setosa\n",
      "[5.1 3.5 1.4 0.3] Iris-setosa\n",
      "[5.7 3.8 1.7 0.3] Iris-setosa\n",
      "[5.1 3.8 1.5 0.3] Iris-setosa\n",
      "[5.4 3.4 1.7 0.2] Iris-setosa\n",
      "[5.1 3.7 1.5 0.4] Iris-setosa\n",
      "[4.6 3.6 1.  0.2] Iris-setosa\n",
      "[5.1 3.3 1.7 0.5] Iris-setosa\n",
      "[4.8 3.4 1.9 0.2] Iris-setosa\n",
      "[5.  3.  1.6 0.2] Iris-setosa\n",
      "[5.  3.4 1.6 0.4] Iris-setosa\n",
      "[5.2 3.5 1.5 0.2] Iris-setosa\n",
      "[5.2 3.4 1.4 0.2] Iris-setosa\n",
      "[4.7 3.2 1.6 0.2] Iris-setosa\n",
      "[4.8 3.1 1.6 0.2] Iris-setosa\n",
      "[5.4 3.4 1.5 0.4] Iris-setosa\n",
      "[5.2 4.1 1.5 0.1] Iris-setosa\n",
      "[5.5 4.2 1.4 0.2] Iris-setosa\n",
      "[4.9 3.1 1.5 0.1] Iris-setosa\n",
      "[5.  3.2 1.2 0.2] Iris-setosa\n",
      "[5.5 3.5 1.3 0.2] Iris-setosa\n",
      "[4.9 3.1 1.5 0.1] Iris-setosa\n",
      "[4.4 3.  1.3 0.2] Iris-setosa\n",
      "[5.1 3.4 1.5 0.2] Iris-setosa\n",
      "[5.  3.5 1.3 0.3] Iris-setosa\n",
      "[4.5 2.3 1.3 0.3] Iris-setosa\n",
      "[4.4 3.2 1.3 0.2] Iris-setosa\n",
      "[5.  3.5 1.6 0.6] Iris-setosa\n",
      "[5.1 3.8 1.9 0.4] Iris-setosa\n",
      "[4.8 3.  1.4 0.3] Iris-setosa\n",
      "[5.1 3.8 1.6 0.2] Iris-setosa\n",
      "[4.6 3.2 1.4 0.2] Iris-setosa\n",
      "[5.3 3.7 1.5 0.2] Iris-setosa\n",
      "[5.  3.3 1.4 0.2] Iris-setosa\n",
      "[7.  3.2 4.7 1.4] Iris-versicolor\n",
      "[6.4 3.2 4.5 1.5] Iris-versicolor\n",
      "[6.9 3.1 4.9 1.5] Iris-versicolor\n",
      "[5.5 2.3 4.  1.3] Iris-versicolor\n",
      "[6.5 2.8 4.6 1.5] Iris-versicolor\n",
      "[5.7 2.8 4.5 1.3] Iris-versicolor\n",
      "[6.3 3.3 4.7 1.6] Iris-versicolor\n",
      "[4.9 2.4 3.3 1. ] Iris-versicolor\n",
      "[6.6 2.9 4.6 1.3] Iris-versicolor\n",
      "[5.2 2.7 3.9 1.4] Iris-versicolor\n",
      "[5.  2.  3.5 1. ] Iris-versicolor\n",
      "[5.9 3.  4.2 1.5] Iris-versicolor\n",
      "[6.  2.2 4.  1. ] Iris-versicolor\n",
      "[6.1 2.9 4.7 1.4] Iris-versicolor\n",
      "[5.6 2.9 3.6 1.3] Iris-versicolor\n",
      "[6.7 3.1 4.4 1.4] Iris-versicolor\n",
      "[5.6 3.  4.5 1.5] Iris-versicolor\n",
      "[5.8 2.7 4.1 1. ] Iris-versicolor\n",
      "[6.2 2.2 4.5 1.5] Iris-versicolor\n",
      "[5.6 2.5 3.9 1.1] Iris-versicolor\n",
      "[5.9 3.2 4.8 1.8] Iris-versicolor\n",
      "[6.1 2.8 4.  1.3] Iris-versicolor\n",
      "[6.3 2.5 4.9 1.5] Iris-versicolor\n",
      "[6.1 2.8 4.7 1.2] Iris-versicolor\n",
      "[6.4 2.9 4.3 1.3] Iris-versicolor\n",
      "[6.6 3.  4.4 1.4] Iris-versicolor\n",
      "[6.8 2.8 4.8 1.4] Iris-versicolor\n",
      "[6.7 3.  5.  1.7] Iris-versicolor\n",
      "[6.  2.9 4.5 1.5] Iris-versicolor\n",
      "[5.7 2.6 3.5 1. ] Iris-versicolor\n",
      "[5.5 2.4 3.8 1.1] Iris-versicolor\n",
      "[5.5 2.4 3.7 1. ] Iris-versicolor\n",
      "[5.8 2.7 3.9 1.2] Iris-versicolor\n",
      "[6.  2.7 5.1 1.6] Iris-versicolor\n",
      "[5.4 3.  4.5 1.5] Iris-versicolor\n",
      "[6.  3.4 4.5 1.6] Iris-versicolor\n",
      "[6.7 3.1 4.7 1.5] Iris-versicolor\n",
      "[6.3 2.3 4.4 1.3] Iris-versicolor\n",
      "[5.6 3.  4.1 1.3] Iris-versicolor\n",
      "[5.5 2.5 4.  1.3] Iris-versicolor\n",
      "[5.5 2.6 4.4 1.2] Iris-versicolor\n",
      "[6.1 3.  4.6 1.4] Iris-versicolor\n",
      "[5.8 2.6 4.  1.2] Iris-versicolor\n",
      "[5.  2.3 3.3 1. ] Iris-versicolor\n",
      "[5.6 2.7 4.2 1.3] Iris-versicolor\n",
      "[5.7 3.  4.2 1.2] Iris-versicolor\n",
      "[5.7 2.9 4.2 1.3] Iris-versicolor\n",
      "[6.2 2.9 4.3 1.3] Iris-versicolor\n",
      "[5.1 2.5 3.  1.1] Iris-versicolor\n",
      "[5.7 2.8 4.1 1.3] Iris-versicolor\n",
      "[6.3 3.3 6.  2.5] Iris-virginica\n",
      "[5.8 2.7 5.1 1.9] Iris-virginica\n",
      "[7.1 3.  5.9 2.1] Iris-virginica\n",
      "[6.3 2.9 5.6 1.8] Iris-virginica\n",
      "[6.5 3.  5.8 2.2] Iris-virginica\n",
      "[7.6 3.  6.6 2.1] Iris-virginica\n",
      "[4.9 2.5 4.5 1.7] Iris-virginica\n",
      "[7.3 2.9 6.3 1.8] Iris-virginica\n",
      "[6.7 2.5 5.8 1.8] Iris-virginica\n",
      "[7.2 3.6 6.1 2.5] Iris-virginica\n",
      "[6.5 3.2 5.1 2. ] Iris-virginica\n",
      "[6.4 2.7 5.3 1.9] Iris-virginica\n",
      "[6.8 3.  5.5 2.1] Iris-virginica\n",
      "[5.7 2.5 5.  2. ] Iris-virginica\n",
      "[5.8 2.8 5.1 2.4] Iris-virginica\n",
      "[6.4 3.2 5.3 2.3] Iris-virginica\n",
      "[6.5 3.  5.5 1.8] Iris-virginica\n",
      "[7.7 3.8 6.7 2.2] Iris-virginica\n",
      "[7.7 2.6 6.9 2.3] Iris-virginica\n",
      "[6.  2.2 5.  1.5] Iris-virginica\n",
      "[6.9 3.2 5.7 2.3] Iris-virginica\n",
      "[5.6 2.8 4.9 2. ] Iris-virginica\n",
      "[7.7 2.8 6.7 2. ] Iris-virginica\n",
      "[6.3 2.7 4.9 1.8] Iris-virginica\n",
      "[6.7 3.3 5.7 2.1] Iris-virginica\n",
      "[7.2 3.2 6.  1.8] Iris-virginica\n",
      "[6.2 2.8 4.8 1.8] Iris-virginica\n",
      "[6.1 3.  4.9 1.8] Iris-virginica\n",
      "[6.4 2.8 5.6 2.1] Iris-virginica\n",
      "[7.2 3.  5.8 1.6] Iris-virginica\n",
      "[7.4 2.8 6.1 1.9] Iris-virginica\n",
      "[7.9 3.8 6.4 2. ] Iris-virginica\n",
      "[6.4 2.8 5.6 2.2] Iris-virginica\n",
      "[6.3 2.8 5.1 1.5] Iris-virginica\n",
      "[6.1 2.6 5.6 1.4] Iris-virginica\n",
      "[7.7 3.  6.1 2.3] Iris-virginica\n",
      "[6.3 3.4 5.6 2.4] Iris-virginica\n",
      "[6.4 3.1 5.5 1.8] Iris-virginica\n",
      "[6.  3.  4.8 1.8] Iris-virginica\n",
      "[6.9 3.1 5.4 2.1] Iris-virginica\n",
      "[6.7 3.1 5.6 2.4] Iris-virginica\n",
      "[6.9 3.1 5.1 2.3] Iris-virginica\n",
      "[5.8 2.7 5.1 1.9] Iris-virginica\n",
      "[6.8 3.2 5.9 2.3] Iris-virginica\n",
      "[6.7 3.3 5.7 2.5] Iris-virginica\n",
      "[6.7 3.  5.2 2.3] Iris-virginica\n",
      "[6.3 2.5 5.  1.9] Iris-virginica\n",
      "[6.5 3.  5.2 2. ] Iris-virginica\n",
      "[6.2 3.4 5.4 2.3] Iris-virginica\n",
      "[5.9 3.  5.1 1.8] Iris-virginica\n"
     ]
    }
   ],
   "source": [
    "# 데이터 불러오기 (delimiter: 구분 기호, usecols: 불러올 열, dtype: 자료형)\n",
    "trainingDataX = np.loadtxt('iris.data.txt', delimiter = ',', usecols = (0, 1, 2, 3))\n",
    "trainingDataY = np.loadtxt('iris.data.txt', delimiter = ',', usecols = (4), dtype = np.str)\n",
    "\n",
    "# trainingDataX, trainingDataY를 한 행씩 묶어서 출력\n",
    "for x, y in zip(trainingDataX, trainingDataY):\n",
    "    print(x, y)"
   ]
  },
  {
   "cell_type": "markdown",
   "metadata": {},
   "source": [
    "### pandas.read_csv()"
   ]
  },
  {
   "cell_type": "code",
   "execution_count": 26,
   "metadata": {},
   "outputs": [
    {
     "name": "stdout",
     "output_type": "stream",
     "text": [
      "[5.1 3.5 1.4 0.2] Iris-setosa\n",
      "[4.9 3.0 1.4 0.2] Iris-setosa\n",
      "[4.7 3.2 1.3 0.2] Iris-setosa\n",
      "[4.6 3.1 1.5 0.2] Iris-setosa\n",
      "[5.0 3.6 1.4 0.2] Iris-setosa\n",
      "[5.4 3.9 1.7 0.4] Iris-setosa\n",
      "[4.6 3.4 1.4 0.3] Iris-setosa\n",
      "[5.0 3.4 1.5 0.2] Iris-setosa\n",
      "[4.4 2.9 1.4 0.2] Iris-setosa\n",
      "[4.9 3.1 1.5 0.1] Iris-setosa\n",
      "[5.4 3.7 1.5 0.2] Iris-setosa\n",
      "[4.8 3.4 1.6 0.2] Iris-setosa\n",
      "[4.8 3.0 1.4 0.1] Iris-setosa\n",
      "[4.3 3.0 1.1 0.1] Iris-setosa\n",
      "[5.8 4.0 1.2 0.2] Iris-setosa\n",
      "[5.7 4.4 1.5 0.4] Iris-setosa\n",
      "[5.4 3.9 1.3 0.4] Iris-setosa\n",
      "[5.1 3.5 1.4 0.3] Iris-setosa\n",
      "[5.7 3.8 1.7 0.3] Iris-setosa\n",
      "[5.1 3.8 1.5 0.3] Iris-setosa\n",
      "[5.4 3.4 1.7 0.2] Iris-setosa\n",
      "[5.1 3.7 1.5 0.4] Iris-setosa\n",
      "[4.6 3.6 1.0 0.2] Iris-setosa\n",
      "[5.1 3.3 1.7 0.5] Iris-setosa\n",
      "[4.8 3.4 1.9 0.2] Iris-setosa\n",
      "[5.0 3.0 1.6 0.2] Iris-setosa\n",
      "[5.0 3.4 1.6 0.4] Iris-setosa\n",
      "[5.2 3.5 1.5 0.2] Iris-setosa\n",
      "[5.2 3.4 1.4 0.2] Iris-setosa\n",
      "[4.7 3.2 1.6 0.2] Iris-setosa\n",
      "[4.8 3.1 1.6 0.2] Iris-setosa\n",
      "[5.4 3.4 1.5 0.4] Iris-setosa\n",
      "[5.2 4.1 1.5 0.1] Iris-setosa\n",
      "[5.5 4.2 1.4 0.2] Iris-setosa\n",
      "[4.9 3.1 1.5 0.1] Iris-setosa\n",
      "[5.0 3.2 1.2 0.2] Iris-setosa\n",
      "[5.5 3.5 1.3 0.2] Iris-setosa\n",
      "[4.9 3.1 1.5 0.1] Iris-setosa\n",
      "[4.4 3.0 1.3 0.2] Iris-setosa\n",
      "[5.1 3.4 1.5 0.2] Iris-setosa\n",
      "[5.0 3.5 1.3 0.3] Iris-setosa\n",
      "[4.5 2.3 1.3 0.3] Iris-setosa\n",
      "[4.4 3.2 1.3 0.2] Iris-setosa\n",
      "[5.0 3.5 1.6 0.6] Iris-setosa\n",
      "[5.1 3.8 1.9 0.4] Iris-setosa\n",
      "[4.8 3.0 1.4 0.3] Iris-setosa\n",
      "[5.1 3.8 1.6 0.2] Iris-setosa\n",
      "[4.6 3.2 1.4 0.2] Iris-setosa\n",
      "[5.3 3.7 1.5 0.2] Iris-setosa\n",
      "[5.0 3.3 1.4 0.2] Iris-setosa\n",
      "[7.0 3.2 4.7 1.4] Iris-versicolor\n",
      "[6.4 3.2 4.5 1.5] Iris-versicolor\n",
      "[6.9 3.1 4.9 1.5] Iris-versicolor\n",
      "[5.5 2.3 4.0 1.3] Iris-versicolor\n",
      "[6.5 2.8 4.6 1.5] Iris-versicolor\n",
      "[5.7 2.8 4.5 1.3] Iris-versicolor\n",
      "[6.3 3.3 4.7 1.6] Iris-versicolor\n",
      "[4.9 2.4 3.3 1.0] Iris-versicolor\n",
      "[6.6 2.9 4.6 1.3] Iris-versicolor\n",
      "[5.2 2.7 3.9 1.4] Iris-versicolor\n",
      "[5.0 2.0 3.5 1.0] Iris-versicolor\n",
      "[5.9 3.0 4.2 1.5] Iris-versicolor\n",
      "[6.0 2.2 4.0 1.0] Iris-versicolor\n",
      "[6.1 2.9 4.7 1.4] Iris-versicolor\n",
      "[5.6 2.9 3.6 1.3] Iris-versicolor\n",
      "[6.7 3.1 4.4 1.4] Iris-versicolor\n",
      "[5.6 3.0 4.5 1.5] Iris-versicolor\n",
      "[5.8 2.7 4.1 1.0] Iris-versicolor\n",
      "[6.2 2.2 4.5 1.5] Iris-versicolor\n",
      "[5.6 2.5 3.9 1.1] Iris-versicolor\n",
      "[5.9 3.2 4.8 1.8] Iris-versicolor\n",
      "[6.1 2.8 4.0 1.3] Iris-versicolor\n",
      "[6.3 2.5 4.9 1.5] Iris-versicolor\n",
      "[6.1 2.8 4.7 1.2] Iris-versicolor\n",
      "[6.4 2.9 4.3 1.3] Iris-versicolor\n",
      "[6.6 3.0 4.4 1.4] Iris-versicolor\n",
      "[6.8 2.8 4.8 1.4] Iris-versicolor\n",
      "[6.7 3.0 5.0 1.7] Iris-versicolor\n",
      "[6.0 2.9 4.5 1.5] Iris-versicolor\n",
      "[5.7 2.6 3.5 1.0] Iris-versicolor\n",
      "[5.5 2.4 3.8 1.1] Iris-versicolor\n",
      "[5.5 2.4 3.7 1.0] Iris-versicolor\n",
      "[5.8 2.7 3.9 1.2] Iris-versicolor\n",
      "[6.0 2.7 5.1 1.6] Iris-versicolor\n",
      "[5.4 3.0 4.5 1.5] Iris-versicolor\n",
      "[6.0 3.4 4.5 1.6] Iris-versicolor\n",
      "[6.7 3.1 4.7 1.5] Iris-versicolor\n",
      "[6.3 2.3 4.4 1.3] Iris-versicolor\n",
      "[5.6 3.0 4.1 1.3] Iris-versicolor\n",
      "[5.5 2.5 4.0 1.3] Iris-versicolor\n",
      "[5.5 2.6 4.4 1.2] Iris-versicolor\n",
      "[6.1 3.0 4.6 1.4] Iris-versicolor\n",
      "[5.8 2.6 4.0 1.2] Iris-versicolor\n",
      "[5.0 2.3 3.3 1.0] Iris-versicolor\n",
      "[5.6 2.7 4.2 1.3] Iris-versicolor\n",
      "[5.7 3.0 4.2 1.2] Iris-versicolor\n",
      "[5.7 2.9 4.2 1.3] Iris-versicolor\n",
      "[6.2 2.9 4.3 1.3] Iris-versicolor\n",
      "[5.1 2.5 3.0 1.1] Iris-versicolor\n",
      "[5.7 2.8 4.1 1.3] Iris-versicolor\n",
      "[6.3 3.3 6.0 2.5] Iris-virginica\n",
      "[5.8 2.7 5.1 1.9] Iris-virginica\n",
      "[7.1 3.0 5.9 2.1] Iris-virginica\n",
      "[6.3 2.9 5.6 1.8] Iris-virginica\n",
      "[6.5 3.0 5.8 2.2] Iris-virginica\n",
      "[7.6 3.0 6.6 2.1] Iris-virginica\n",
      "[4.9 2.5 4.5 1.7] Iris-virginica\n",
      "[7.3 2.9 6.3 1.8] Iris-virginica\n",
      "[6.7 2.5 5.8 1.8] Iris-virginica\n",
      "[7.2 3.6 6.1 2.5] Iris-virginica\n",
      "[6.5 3.2 5.1 2.0] Iris-virginica\n",
      "[6.4 2.7 5.3 1.9] Iris-virginica\n",
      "[6.8 3.0 5.5 2.1] Iris-virginica\n",
      "[5.7 2.5 5.0 2.0] Iris-virginica\n",
      "[5.8 2.8 5.1 2.4] Iris-virginica\n",
      "[6.4 3.2 5.3 2.3] Iris-virginica\n",
      "[6.5 3.0 5.5 1.8] Iris-virginica\n",
      "[7.7 3.8 6.7 2.2] Iris-virginica\n",
      "[7.7 2.6 6.9 2.3] Iris-virginica\n",
      "[6.0 2.2 5.0 1.5] Iris-virginica\n",
      "[6.9 3.2 5.7 2.3] Iris-virginica\n",
      "[5.6 2.8 4.9 2.0] Iris-virginica\n",
      "[7.7 2.8 6.7 2.0] Iris-virginica\n",
      "[6.3 2.7 4.9 1.8] Iris-virginica\n",
      "[6.7 3.3 5.7 2.1] Iris-virginica\n",
      "[7.2 3.2 6.0 1.8] Iris-virginica\n",
      "[6.2 2.8 4.8 1.8] Iris-virginica\n",
      "[6.1 3.0 4.9 1.8] Iris-virginica\n",
      "[6.4 2.8 5.6 2.1] Iris-virginica\n",
      "[7.2 3.0 5.8 1.6] Iris-virginica\n",
      "[7.4 2.8 6.1 1.9] Iris-virginica\n",
      "[7.9 3.8 6.4 2.0] Iris-virginica\n",
      "[6.4 2.8 5.6 2.2] Iris-virginica\n",
      "[6.3 2.8 5.1 1.5] Iris-virginica\n",
      "[6.1 2.6 5.6 1.4] Iris-virginica\n",
      "[7.7 3.0 6.1 2.3] Iris-virginica\n",
      "[6.3 3.4 5.6 2.4] Iris-virginica\n",
      "[6.4 3.1 5.5 1.8] Iris-virginica\n",
      "[6.0 3.0 4.8 1.8] Iris-virginica\n",
      "[6.9 3.1 5.4 2.1] Iris-virginica\n",
      "[6.7 3.1 5.6 2.4] Iris-virginica\n",
      "[6.9 3.1 5.1 2.3] Iris-virginica\n",
      "[5.8 2.7 5.1 1.9] Iris-virginica\n",
      "[6.8 3.2 5.9 2.3] Iris-virginica\n",
      "[6.7 3.3 5.7 2.5] Iris-virginica\n",
      "[6.7 3.0 5.2 2.3] Iris-virginica\n",
      "[6.3 2.5 5.0 1.9] Iris-virginica\n",
      "[6.5 3.0 5.2 2.0] Iris-virginica\n",
      "[6.2 3.4 5.4 2.3] Iris-virginica\n",
      "[5.9 3.0 5.1 1.8] Iris-virginica\n"
     ]
    }
   ],
   "source": [
    "# 필요한 library import\n",
    "import pandas as pd\n",
    "\n",
    "# 데이터 불러오기\n",
    "dataframe = pd.read_csv('iris.data.txt', header = None, names = ['sepal_L', 'sepal_W', 'petal_L', 'petal_W', 'class'])\n",
    "\n",
    "# 불러온 데이터를 두 배열로 나누기\n",
    "trainingDataX = dataframe.values[:, 0:4]\n",
    "trainingDataY = dataframe['class'].values\n",
    "\n",
    "# trainingDataX, trainingDataY를 한 행씩 묶어서 출력\n",
    "for x, y in zip(trainingDataX, trainingDataY):\n",
    "    print(x, y)"
   ]
  },
  {
   "cell_type": "markdown",
   "metadata": {},
   "source": [
    "## 로지스틱 회귀"
   ]
  },
  {
   "cell_type": "code",
   "execution_count": 27,
   "metadata": {},
   "outputs": [],
   "source": [
    "# 필요한 library import\n",
    "import matplotlib.pyplot as plt\n",
    "from sklearn import linear_model"
   ]
  },
  {
   "cell_type": "code",
   "execution_count": 28,
   "metadata": {},
   "outputs": [],
   "source": [
    "# class를 기준으로 숫자를 부여하는 함수 정의\n",
    "def labelToInt(label):\n",
    "    if label == 'Iris-setosa':\n",
    "        return 0\n",
    "    elif label == 'Iris-versicolor':\n",
    "        return 1\n",
    "    elif label == 'Iris-virginica':\n",
    "        return 2\n",
    "    else:\n",
    "        return -1"
   ]
  },
  {
   "cell_type": "code",
   "execution_count": 29,
   "metadata": {},
   "outputs": [],
   "source": [
    "# 데이터 불러오기\n",
    "dataframe = pd.read_csv('iris.data.txt', header = None, names = ['sepal_L', 'sepal_W', 'petal_L', 'petal_W', 'class'])\n",
    "\n",
    "# 불러온 데이터를 두 배열로 나누기\n",
    "trainingDataX = dataframe.values[:, 0:3]\n",
    "trainingDataY = dataframe['class'].values\n",
    "\n",
    "# trainingDataY를 숫자로 변환\n",
    "trainingDataY = np.array([labelToInt(one) for one in trainingDataY])"
   ]
  },
  {
   "cell_type": "code",
   "execution_count": 30,
   "metadata": {},
   "outputs": [
    {
     "name": "stderr",
     "output_type": "stream",
     "text": [
      "C:\\ProgramData\\Anaconda3\\lib\\site-packages\\sklearn\\linear_model\\logistic.py:433: FutureWarning: Default solver will be changed to 'lbfgs' in 0.22. Specify a solver to silence this warning.\n",
      "  FutureWarning)\n",
      "C:\\ProgramData\\Anaconda3\\lib\\site-packages\\sklearn\\linear_model\\logistic.py:460: FutureWarning: Default multi_class will be changed to 'auto' in 0.22. Specify the multi_class option to silence this warning.\n",
      "  \"this warning.\", FutureWarning)\n"
     ]
    }
   ],
   "source": [
    "# 로지스틱 회귀 모델에 학습\n",
    "IrModel = linear_model.LogisticRegression(C = 10000)\n",
    "IrModel.fit(trainingDataX, trainingDataY)\n",
    "predictLabel = IrModel.predict(trainingDataX)"
   ]
  },
  {
   "cell_type": "code",
   "execution_count": 31,
   "metadata": {},
   "outputs": [
    {
     "data": {
      "image/png": "[encoded data removed]",
      "text/plain": [
       "<Figure size 432x288 with 2 Axes>"
      ]
     },
     "metadata": {
      "needs_background": "light"
     },
     "output_type": "display_data"
    },
    {
     "name": "stdout",
     "output_type": "stream",
     "text": [
      "Accuracy: 0.9666666666666667\n"
     ]
    }
   ],
   "source": [
    "# 그래프 그리기\n",
    "plt.figure()\n",
    "\n",
    "plt.subplot(2, 1, 1)\n",
    "plt.scatter(trainingDataX[:, 0], trainingDataX[:, 1], c = trainingDataY)\n",
    "\n",
    "plt.subplot(2, 1, 2)\n",
    "plt.scatter(trainingDataX[:, 0], trainingDataX[:, 1], c = predictLabel)\n",
    "\n",
    "plt.show()\n",
    "\n",
    "# 정확도 출력\n",
    "avgAcc = IrModel.score(trainingDataX, trainingDataY)\n",
    "print('Accuracy:', avgAcc)"
   ]
  }
 ],
 "metadata": {
  "kernelspec": {
   "display_name": "Python 3",
   "language": "python",
   "name": "python3"
  },
  "language_info": {
   "codemirror_mode": {
    "name": "ipython",
    "version": 3
   },
   "file_extension": ".py",
   "mimetype": "text/x-python",
   "name": "python",
   "nbconvert_exporter": "python",
   "pygments_lexer": "ipython3",
   "version": "3.6.7"
  }
 },
 "nbformat": 4,
 "nbformat_minor": 2
}
